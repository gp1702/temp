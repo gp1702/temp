{
 "cells": [
  {
   "cell_type": "code",
   "execution_count": 1,
   "metadata": {
    "collapsed": true
   },
   "outputs": [],
   "source": [
    "import gym\n",
    "import os\n",
    "import sys\n",
    "import numpy as np\n",
    "import matplotlib.pyplot as plt\n",
    "from gym import wrappers\n",
    "from datetime import datetime\n",
    "from sklearn.pipeline import FeatureUnion\n",
    "from sklearn.preprocessing import StandardScaler\n",
    "from sklearn.kernel_approximation import RBFSampler\n",
    "import HIVTreatment_Gym\n",
    "%matplotlib inline"
   ]
  },
  {
   "cell_type": "code",
   "execution_count": 2,
   "metadata": {
    "collapsed": true
   },
   "outputs": [],
   "source": [
    "def plot_running_avg(totalrewards):\n",
    "    N = len(totalrewards)\n",
    "    running_avg = np.empty(N)\n",
    "    for t in range(N):\n",
    "        running_avg[t] = totalrewards[max(0, t-100):(t+1)].mean()\n",
    "    plt.plot(running_avg)\n",
    "    plt.title(\"Running Average\")\n",
    "    plt.show()"
   ]
  },
  {
   "cell_type": "code",
   "execution_count": 3,
   "metadata": {
    "collapsed": true
   },
   "outputs": [],
   "source": [
    "class SGDRegressor:\n",
    "    def __init__(self, D):\n",
    "        self.w = np.random.randn(D) / np.sqrt(D)\n",
    "        self.lr = 0.1\n",
    "    def partial_fit(self, X, Y):\n",
    "        self.w += self.lr*(Y - X.dot(self.w)).dot(X)\n",
    "\n",
    "    def predict(self, X):\n",
    "        return X.dot(self.w)"
   ]
  },
  {
   "cell_type": "code",
   "execution_count": 4,
   "metadata": {
    "collapsed": true
   },
   "outputs": [],
   "source": [
    "class FeatureTransformer:\n",
    "    def __init__(self, env):\n",
    "        # observation_examples = np.array([env.observation_space.sample() for x in range(10000)])\n",
    "        # NOTE!! state samples are poor, b/c you get velocities --> infinity\n",
    "        observation_examples = np.random.random((20000, 6))*2 - 1\n",
    "        scaler = StandardScaler()\n",
    "        scaler.fit(observation_examples)\n",
    "\n",
    "        # Used to converte a state to a featurizes represenation.\n",
    "        # We use RBF kernels with different variances to cover different parts of the space\n",
    "        featurizer = FeatureUnion([\n",
    "                (\"rbf1\", RBFSampler(gamma=0.05, n_components=1000)),\n",
    "                (\"rbf2\", RBFSampler(gamma=1.0, n_components=1000)),\n",
    "                (\"rbf3\", RBFSampler(gamma=0.5, n_components=1000)),\n",
    "                (\"rbf4\", RBFSampler(gamma=0.1, n_components=1000))\n",
    "                ])\n",
    "        feature_examples = featurizer.fit_transform(scaler.transform(observation_examples))\n",
    "\n",
    "        self.dimensions = feature_examples.shape[1]\n",
    "        self.scaler = scaler\n",
    "        self.featurizer = featurizer\n",
    "\n",
    "    def transform(self, observations):\n",
    "        scaled = self.scaler.transform(observations)\n",
    "        return self.featurizer.transform(scaled)"
   ]
  },
  {
   "cell_type": "code",
   "execution_count": 5,
   "metadata": {
    "collapsed": true
   },
   "outputs": [],
   "source": [
    "# Holds one SGDRegressor for each action\n",
    "class Model:\n",
    "    def __init__(self, env, feature_transformer):\n",
    "        self.env = env\n",
    "        self.models = []\n",
    "        self.feature_transformer = feature_transformer\n",
    "        for i in range(env.action_space.n):\n",
    "            model = SGDRegressor(feature_transformer.dimensions)\n",
    "            self.models.append(model)\n",
    "\n",
    "    def predict(self, s):\n",
    "        X = self.feature_transformer.transform(np.atleast_2d(s))\n",
    "        result = np.stack([m.predict(X) for m in self.models]).T\n",
    "        return result\n",
    "    \n",
    "    def update(self, s, a, G):\n",
    "        X = self.feature_transformer.transform(np.atleast_2d(s))\n",
    "        self.models[a].partial_fit(X, [G])\n",
    "\n",
    "    def sample_action(self, s, eps):\n",
    "        if np.random.random() < eps:\n",
    "              return self.env.action_space.sample()\n",
    "        else:\n",
    "              return np.argmax(self.predict(s))"
   ]
  },
  {
   "cell_type": "code",
   "execution_count": 6,
   "metadata": {
    "collapsed": true
   },
   "outputs": [],
   "source": [
    "def play_one(env, model, eps, gamma):\n",
    "    observation = env.reset()\n",
    "    done = False\n",
    "    totalreward = 0\n",
    "    iters = 0\n",
    "    while not done and iters < 2000:\n",
    "        # if we reach 2000, just quit, don't want this going forever\n",
    "        # the 200 limit seems a bit early\n",
    "        action = model.sample_action(observation, eps)\n",
    "        prev_observation = observation\n",
    "        observation, reward, done, info = env.step(action)\n",
    "\n",
    "#         if done:\n",
    "#             reward = -200\n",
    "\n",
    "    # update the model\n",
    "        next = model.predict(observation)\n",
    "        # print(next.shape)\n",
    "        assert(next.shape == (1, env.action_space.n))\n",
    "        G = reward + gamma*np.max(next)\n",
    "        model.update(prev_observation, action, G)\n",
    "        totalreward += reward\n",
    "#         if reward == 1: # if we changed the reward to -200\n",
    "#             totalreward += reward\n",
    "        iters += 1\n",
    "\n",
    "    return totalreward"
   ]
  },
  {
   "cell_type": "code",
   "execution_count": 7,
   "metadata": {
    "collapsed": true
   },
   "outputs": [],
   "source": [
    "def main():\n",
    "    env = gym.make('HIV-v0')\n",
    "    ft = FeatureTransformer(env)\n",
    "    model = Model(env, ft)\n",
    "    gamma = 0.99\n",
    "\n",
    "    if 'monitor' in sys.argv:\n",
    "        filename = os.path.basename(__file__).split('.')[0]\n",
    "        monitor_dir = './' + filename + '_' + str(datetime.now())\n",
    "        env = wrappers.Monitor(env, monitor_dir)\n",
    "\n",
    "\n",
    "    N = 10000\n",
    "    totalrewards = np.empty(N)\n",
    "    costs = np.empty(N)\n",
    "    for n in range(N):\n",
    "        eps = 1.0/np.sqrt(n+1)\n",
    "        totalreward = play_one(env, model, eps, gamma)\n",
    "        totalrewards[n] = totalreward\n",
    "        if n % 100 == 0:\n",
    "            print(\"episode:\", n, \"total reward:\", totalreward, \"eps:\", eps, \"avg reward (last 100):\", totalrewards[max(0, n-100):(n+1)].mean())\n",
    "\n",
    "    print(\"avg reward for last 100 episodes:\", totalrewards[-100:].mean())\n",
    "    print(\"total steps:\", totalrewards.sum())\n",
    "\n",
    "    plt.plot(totalrewards)\n",
    "    plt.title(\"Rewards\")\n",
    "    plt.show()\n",
    "\n",
    "    plot_running_avg(totalrewards)\n"
   ]
  },
  {
   "cell_type": "code",
   "execution_count": 8,
   "metadata": {},
   "outputs": [
    {
     "name": "stdout",
     "output_type": "stream",
     "text": [
      "episode: 0 total reward: 8269699.00587 eps: 1.0 avg reward (last 100): 8269699.00587\n",
      "episode: 100 total reward: 18766656.5655 eps: 0.099503719021 avg reward (last 100): 16123947.679\n",
      "episode: 200 total reward: 23618481.4117 eps: 0.0705345615859 avg reward (last 100): 20413834.3004\n",
      "episode: 300 total reward: 30949762.884 eps: 0.0576390417704 avg reward (last 100): 25642677.9077\n",
      "episode: 400 total reward: 34411181.4741 eps: 0.0499376169439 avg reward (last 100): 32630905.7404\n",
      "episode: 500 total reward: 47186190.3818 eps: 0.0446767051609 avg reward (last 100): 39941335.1637\n",
      "episode: 600 total reward: 50383040.6304 eps: 0.0407908508224 avg reward (last 100): 49250833.6397\n",
      "episode: 700 total reward: 64584893.2329 eps: 0.03776947873 avg reward (last 100): 59636406.472\n",
      "episode: 800 total reward: 73752253.0155 eps: 0.0353332626669 avg reward (last 100): 69348432.3752\n",
      "episode: 900 total reward: 90921159.7406 eps: 0.0333148302326 avg reward (last 100): 80571057.0983\n",
      "episode: 1000 total reward: 136215743.772 eps: 0.0316069770621 avg reward (last 100): 104386709.584\n",
      "episode: 1100 total reward: 142955923.734 eps: 0.0301374387339 avg reward (last 100): 148166187.111\n",
      "episode: 1200 total reward: 254236286.528 eps: 0.0288554928412 avg reward (last 100): 210903693.843\n",
      "episode: 1300 total reward: 320927214.581 eps: 0.0277243486501 avg reward (last 100): 266099313.707\n",
      "episode: 1400 total reward: 454952428.773 eps: 0.0267165842573 avg reward (last 100): 353156155.106\n",
      "episode: 1500 total reward: 605014245.764 eps: 0.025811286646 avg reward (last 100): 477154291.322\n",
      "episode: 1600 total reward: 774530322.224 eps: 0.0249921911602 avg reward (last 100): 783996466.459\n",
      "episode: 1700 total reward: 2978269043.0 eps: 0.0242464322484 avg reward (last 100): 1578705922.38\n",
      "episode: 1800 total reward: 15434710460.7 eps: 0.0235636814813 avg reward (last 100): 9775624076.04\n",
      "episode: 1900 total reward: 14932298773.4 eps: 0.022935538513 avg reward (last 100): 14472085625.2\n",
      "episode: 2000 total reward: 15334782524.6 eps: 0.0223550917005 avg reward (last 100): 15098473695.2\n",
      "episode: 2100 total reward: 15414777609.9 eps: 0.0218165952144 avg reward (last 100): 16175725964.5\n",
      "episode: 2200 total reward: 20340383849.2 eps: 0.021315227816 avg reward (last 100): 18183108044.4\n",
      "episode: 2300 total reward: 14570161336.5 eps: 0.0208469099613 avg reward (last 100): 19844027800.3\n",
      "episode: 2400 total reward: 13035281475.2 eps: 0.0204081632653 avg reward (last 100): 20534392577.3\n",
      "episode: 2500 total reward: 14382512131.0 eps: 0.0199960011996 avg reward (last 100): 19900298454.2\n",
      "episode: 2600 total reward: 29727210991.8 eps: 0.0196078431373 avg reward (last 100): 23033908161.3\n",
      "episode: 2700 total reward: 29426897971.7 eps: 0.0192414460721 avg reward (last 100): 23934575860.7\n",
      "episode: 2800 total reward: 35535883736.3 eps: 0.0188948498713 avg reward (last 100): 24879885938.9\n",
      "episode: 2900 total reward: 19942823373.5 eps: 0.0185663330017 avg reward (last 100): 28918465407.1\n",
      "episode: 3000 total reward: 33774789207.2 eps: 0.0182543764409 avg reward (last 100): 32293777353.0\n",
      "episode: 3100 total reward: 29233800372.6 eps: 0.0179576340436 avg reward (last 100): 32965291850.3\n",
      "episode: 3200 total reward: 41186304749.4 eps: 0.017674908041 avg reward (last 100): 31505780320.8\n",
      "episode: 3300 total reward: 26240666804.1 eps: 0.0174051286546 avg reward (last 100): 32631271895.0\n",
      "episode: 3400 total reward: 33125752161.7 eps: 0.0171473370324 avg reward (last 100): 33174410832.9\n",
      "episode: 3500 total reward: 33152893227.8 eps: 0.0169006708854 avg reward (last 100): 33201365877.0\n",
      "episode: 3600 total reward: 19660702715.1 eps: 0.016664352334 avg reward (last 100): 33341748074.9\n",
      "episode: 3700 total reward: 35984544809.8 eps: 0.0164376775728 avg reward (last 100): 34123605108.7\n",
      "episode: 3800 total reward: 41090357122.0 eps: 0.0162200080419 avg reward (last 100): 34177520895.4\n",
      "episode: 3900 total reward: 35312824762.2 eps: 0.0160107628502 avg reward (last 100): 33845513500.9\n",
      "episode: 4000 total reward: 28864463660.7 eps: 0.0158094122478 avg reward (last 100): 35401977906.8\n",
      "episode: 4100 total reward: 31853116949.5 eps: 0.0156154719791 avg reward (last 100): 35567354926.7\n",
      "episode: 4200 total reward: 32860664184.3 eps: 0.0154284983795 avg reward (last 100): 34136722906.9\n",
      "episode: 4300 total reward: 19384986520.5 eps: 0.0152480841033 avg reward (last 100): 34596312181.1\n",
      "episode: 4400 total reward: 26903348899.3 eps: 0.0150738543882 avg reward (last 100): 35185003096.2\n",
      "episode: 4500 total reward: 36728040228.7 eps: 0.0149054637794 avg reward (last 100): 35714255959.3\n",
      "episode: 4600 total reward: 26103681723.7 eps: 0.0147425932468 avg reward (last 100): 35541461820.3\n",
      "episode: 4700 total reward: 36871180419.7 eps: 0.0145849476421 avg reward (last 100): 35094516903.4\n",
      "episode: 4800 total reward: 42098599758.3 eps: 0.0144322534483 avg reward (last 100): 35749791391.8\n",
      "episode: 4900 total reward: 35913643536.7 eps: 0.0142842567829 avg reward (last 100): 35112980944.4\n",
      "episode: 5000 total reward: 28311988281.8 eps: 0.0141407216223 avg reward (last 100): 36780245428.4\n",
      "episode: 5100 total reward: 35459777821.8 eps: 0.0140014282185 avg reward (last 100): 36365011395.4\n",
      "episode: 5200 total reward: 32885036381.6 eps: 0.013866171684 avg reward (last 100): 36690194292.3\n",
      "episode: 5300 total reward: 30038188494.8 eps: 0.0137347607238 avg reward (last 100): 36593782373.4\n",
      "episode: 5400 total reward: 39470111326.5 eps: 0.0136070164982 avg reward (last 100): 36599376675.9\n",
      "episode: 5500 total reward: 32357613017.8 eps: 0.0134827715985 avg reward (last 100): 36650924032.0\n",
      "episode: 5600 total reward: 43107713083.9 eps: 0.0133618691248 avg reward (last 100): 36198548613.0\n",
      "episode: 5700 total reward: 34897639632.4 eps: 0.013244161853 avg reward (last 100): 37143071913.6\n",
      "episode: 5800 total reward: 42225612349.8 eps: 0.0131295114803 avg reward (last 100): 38092602040.4\n",
      "episode: 5900 total reward: 39458954629.3 eps: 0.0130177879425 avg reward (last 100): 36766637162.0\n",
      "episode: 6000 total reward: 38541006028.8 eps: 0.0129088687931 avg reward (last 100): 37898114894.9\n",
      "episode: 6100 total reward: 37617159041.5 eps: 0.0128026386397 avg reward (last 100): 37206656293.8\n",
      "episode: 6200 total reward: 26196666006.4 eps: 0.0126989886293 avg reward (last 100): 36988312532.6\n",
      "episode: 6300 total reward: 34832170936.7 eps: 0.01259781598 avg reward (last 100): 36942658325.2\n",
      "episode: 6400 total reward: 37230884856.9 eps: 0.0124990235519 avg reward (last 100): 37046953753.3\n",
      "episode: 6500 total reward: 37546369432.0 eps: 0.0124025194557 avg reward (last 100): 37621976303.2\n",
      "episode: 6600 total reward: 42692649805.3 eps: 0.0123082166926 avg reward (last 100): 36746331968.7\n",
      "episode: 6700 total reward: 32476953081.9 eps: 0.0122160328254 avg reward (last 100): 37243818913.7\n",
      "episode: 6800 total reward: 34422910486.3 eps: 0.0121258896751 avg reward (last 100): 37305175169.9\n",
      "episode: 6900 total reward: 42963685668.9 eps: 0.0120377130421 avg reward (last 100): 37002005634.8\n",
      "episode: 7000 total reward: 42766505083.7 eps: 0.0119514324501 avg reward (last 100): 38191303973.8\n",
      "episode: 7100 total reward: 30024730277.6 eps: 0.0118669809085 avg reward (last 100): 37773785432.3\n",
      "episode: 7200 total reward: 40972718997.8 eps: 0.0117842946944 avg reward (last 100): 38488938806.5\n",
      "episode: 7300 total reward: 43042779849.1 eps: 0.0117033131503 avg reward (last 100): 39105070808.8\n",
      "episode: 7400 total reward: 39233396439.2 eps: 0.011623978497 avg reward (last 100): 38279196793.4\n",
      "episode: 7500 total reward: 43818412730.2 eps: 0.0115462356604 avg reward (last 100): 38841169731.6\n",
      "episode: 7600 total reward: 28601728863.6 eps: 0.011470032111 avg reward (last 100): 36994125880.8\n",
      "episode: 7700 total reward: 43208262766.6 eps: 0.0113953177143 avg reward (last 100): 38535890945.2\n",
      "episode: 7800 total reward: 27295680557.3 eps: 0.0113220445926 avg reward (last 100): 37828969860.6\n",
      "episode: 7900 total reward: 40941694445.8 eps: 0.0112501669959 avg reward (last 100): 38097703620.1\n",
      "episode: 8000 total reward: 43067363954.8 eps: 0.0111796411818 avg reward (last 100): 37439401050.7\n",
      "episode: 8100 total reward: 43666385795.6 eps: 0.0111104253036 avg reward (last 100): 38067244957.4\n",
      "episode: 8200 total reward: 36892089286.1 eps: 0.0110424793061 avg reward (last 100): 38047258553.7\n"
     ]
    },
    {
     "name": "stdout",
     "output_type": "stream",
     "text": [
      "episode: 8300 total reward: 40872163705.5 eps: 0.0109757648282 avg reward (last 100): 38696436026.3\n",
      "episode: 8400 total reward: 43149659788.9 eps: 0.0109102451118 avg reward (last 100): 39190842150.6\n",
      "episode: 8500 total reward: 37939955158.1 eps: 0.0108458849165 avg reward (last 100): 37576378592.8\n",
      "episode: 8600 total reward: 34995950286.4 eps: 0.0107826504403 avg reward (last 100): 37951192187.2\n",
      "episode: 8700 total reward: 38513687106.8 eps: 0.0107205092449 avg reward (last 100): 38159824117.1\n",
      "episode: 8800 total reward: 38886014273.3 eps: 0.0106594301855 avg reward (last 100): 37971314637.3\n",
      "episode: 8900 total reward: 37602974553.2 eps: 0.0105993833458 avg reward (last 100): 38606389855.1\n",
      "episode: 9000 total reward: 35855761568.7 eps: 0.0105403399757 avg reward (last 100): 38336723001.5\n",
      "episode: 9100 total reward: 40661356535.2 eps: 0.010482272434 avg reward (last 100): 38035612149.5\n",
      "episode: 9200 total reward: 37006995900.8 eps: 0.0104251541338 avg reward (last 100): 39070731929.2\n",
      "episode: 9300 total reward: 36883411223.7 eps: 0.0103689594913 avg reward (last 100): 38411486075.2\n",
      "episode: 9400 total reward: 35258332465.9 eps: 0.010313663878 avg reward (last 100): 39114503794.7\n",
      "episode: 9500 total reward: 37437428719.2 eps: 0.0102592435749 avg reward (last 100): 38755643890.4\n",
      "episode: 9600 total reward: 36958182755.3 eps: 0.0102056757298 avg reward (last 100): 39150601499.6\n",
      "episode: 9700 total reward: 36414194587.5 eps: 0.0101529383175 avg reward (last 100): 39126198250.4\n",
      "episode: 9800 total reward: 41550515503.5 eps: 0.010101010101 avg reward (last 100): 39105727948.9\n",
      "episode: 9900 total reward: 43770956586.8 eps: 0.0100498705962 avg reward (last 100): 39438635527.7\n",
      "avg reward for last 100 episodes: 38994623153.9\n",
      "total steps: 2.85413420566e+14\n"
     ]
    },
    {
     "data": {
      "image/png": "[encoded data removed]",
      "text/plain": [
       "<matplotlib.figure.Figure at 0x106450ef0>"
      ]
     },
     "metadata": {},
     "output_type": "display_data"
    },
    {
     "data": {
      "image/png": "[encoded data removed]",
      "text/plain": [
       "<matplotlib.figure.Figure at 0x117230128>"
      ]
     },
     "metadata": {},
     "output_type": "display_data"
    }
   ],
   "source": [
    "main()"
   ]
  },
  {
   "cell_type": "markdown",
   "metadata": {},
   "source": [
    "## Approach :\n",
    "  The previous implementations of KBRL are unable to converge thus we now move to a different choice of kernel and method of implementation. We decide to use the Radial Basis Function (RBF) kernel.\n",
    "  \n",
    "  The RBF kernel model can be thought of as a linear  model with feature extraction where the feature extractor is a RBF kernel.\n",
    "  \n",
    "  Mathematically the RBF kernel can be expressed as:\n",
    "  $$\\phi (x)=exp(-\\frac{||x-c||^{2}}{\\sigma^{2}})$$\n",
    "  \n",
    "  where:\n",
    "         $x$= input vector\n",
    "         $c$ = center or exemplar vector\n",
    "         $\\sigma$ = scale parameter.\n",
    "         \n",
    "  Note that $c$ is a hyper-parameter and needs to be found by experimentation.\n",
    "  \n",
    "  We use the RBF-sampler from scikit-learn and sample from the state space to train a linear regresor to learns its feature.\n",
    "  Since we are not sure which scale parameter $\\sigma$ is good we use multiple RBF kernels with different scale parameters. We also use one step of a gradient descent to integrate it with the Q learning mechanism.\n",
    "  \n",
    "Another implementation detail worth noting is that we only extract the features from the state $s$ and learn a different linear-model for each action."
   ]
  },
  {
   "cell_type": "code",
   "execution_count": null,
   "metadata": {
    "collapsed": true
   },
   "outputs": [],
   "source": []
  }
 ],
 "metadata": {
  "anaconda-cloud": {},
  "kernelspec": {
   "display_name": "Python [conda env:py3k]",
   "language": "python",
   "name": "conda-env-py3k-py"
  },
  "language_info": {
   "codemirror_mode": {
    "name": "ipython",
    "version": 3
   },
   "file_extension": ".py",
   "mimetype": "text/x-python",
   "name": "python",
   "nbconvert_exporter": "python",
   "pygments_lexer": "ipython3",
   "version": "3.5.2"
  }
 },
 "nbformat": 4,
 "nbformat_minor": 1
}
