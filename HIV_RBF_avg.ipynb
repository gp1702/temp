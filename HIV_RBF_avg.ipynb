{
 "cells": [
  {
   "cell_type": "code",
   "execution_count": 1,
   "metadata": {},
   "outputs": [],
   "source": [
    "import gym\n",
    "import os\n",
    "import sys\n",
    "import numpy as np\n",
    "import matplotlib.pyplot as plt\n",
    "from gym import wrappers\n",
    "from datetime import datetime\n",
    "from sklearn.pipeline import FeatureUnion\n",
    "from sklearn.preprocessing import StandardScaler\n",
    "from sklearn.kernel_approximation import RBFSampler\n",
    "import HIVTreatment_Gym\n",
    "%matplotlib inline"
   ]
  },
  {
   "cell_type": "code",
   "execution_count": 2,
   "metadata": {},
   "outputs": [],
   "source": [
    "def plot_running_avg(totalrewards):\n",
    "    N = len(totalrewards)\n",
    "    running_avg = np.empty(N)\n",
    "    for t in range(N):\n",
    "        running_avg[t] = totalrewards[max(0, t-100):(t+1)].mean()\n",
    "    plt.plot(running_avg)\n",
    "    plt.title(\"Running Average\")\n",
    "    plt.show()"
   ]
  },
  {
   "cell_type": "code",
   "execution_count": 3,
   "metadata": {},
   "outputs": [],
   "source": [
    "class SGDRegressor:\n",
    "    def __init__(self, D):\n",
    "        self.w = np.random.randn(D) / np.sqrt(D)\n",
    "        self.lr = 0.1\n",
    "    def partial_fit(self, X, Y):\n",
    "        self.w += self.lr*(Y - X.dot(self.w)).dot(X)\n",
    "\n",
    "    def predict(self, X):\n",
    "        return X.dot(self.w)"
   ]
  },
  {
   "cell_type": "code",
   "execution_count": 4,
   "metadata": {},
   "outputs": [],
   "source": [
    "class FeatureTransformer:\n",
    "    def __init__(self, env):\n",
    "        # observation_examples = np.array([env.observation_space.sample() for x in range(10000)])\n",
    "        # NOTE!! state samples are poor, b/c you get velocities --> infinity\n",
    "        observation_examples = np.random.random((20000, 6))*2 - 1\n",
    "        scaler = StandardScaler()\n",
    "        scaler.fit(observation_examples)\n",
    "\n",
    "        # Used to converte a state to a featurizes represenation.\n",
    "        # We use RBF kernels with different variances to cover different parts of the space\n",
    "        featurizer = FeatureUnion([\n",
    "                (\"rbf1\", RBFSampler(gamma=0.05, n_components=1000)),\n",
    "                (\"rbf2\", RBFSampler(gamma=1.0, n_components=1000)),\n",
    "                (\"rbf3\", RBFSampler(gamma=0.5, n_components=1000)),\n",
    "                (\"rbf4\", RBFSampler(gamma=0.1, n_components=1000))\n",
    "                ])\n",
    "        feature_examples = featurizer.fit_transform(scaler.transform(observation_examples))\n",
    "\n",
    "        self.dimensions = feature_examples.shape[1]\n",
    "        self.scaler = scaler\n",
    "        self.featurizer = featurizer\n",
    "\n",
    "    def transform(self, observations):\n",
    "        scaled = self.scaler.transform(observations)\n",
    "        return self.featurizer.transform(scaled)"
   ]
  },
  {
   "cell_type": "code",
   "execution_count": 5,
   "metadata": {},
   "outputs": [],
   "source": [
    "# Holds one SGDRegressor for each action\n",
    "class Model:\n",
    "    def __init__(self, env, feature_transformer):\n",
    "        self.env = env\n",
    "        self.models = []\n",
    "        self.feature_transformer = feature_transformer\n",
    "        for i in range(env.action_space.n):\n",
    "            model = SGDRegressor(feature_transformer.dimensions)\n",
    "            self.models.append(model)\n",
    "\n",
    "    def predict(self, s):\n",
    "        X = self.feature_transformer.transform(np.atleast_2d(s))\n",
    "        result = np.stack([m.predict(X) for m in self.models]).T\n",
    "        return result\n",
    "    \n",
    "    def update(self, s, a, G):\n",
    "        X = self.feature_transformer.transform(np.atleast_2d(s))\n",
    "        self.models[a].partial_fit(X, [G])\n",
    "\n",
    "    def sample_action(self, s, eps):\n",
    "        if np.random.random() < eps:\n",
    "              return self.env.action_space.sample()\n",
    "        else:\n",
    "              return np.argmax(self.predict(s))"
   ]
  },
  {
   "cell_type": "code",
   "execution_count": 6,
   "metadata": {},
   "outputs": [],
   "source": [
    "def play_one(env, model, eps, gamma):\n",
    "    observation = env.reset()\n",
    "    done = False\n",
    "    totalreward = 0\n",
    "    iters = 0\n",
    "    while not done and iters < 2000:\n",
    "        # if we reach 2000, just quit, don't want this going forever\n",
    "        # the 200 limit seems a bit early\n",
    "        action = model.sample_action(observation, eps)\n",
    "        prev_observation = observation\n",
    "        observation, reward, done, info = env.step(action)\n",
    "\n",
    "#         if done:\n",
    "#             reward = -200\n",
    "\n",
    "    # update the model\n",
    "        next = model.predict(observation)\n",
    "        # print(next.shape)\n",
    "        assert(next.shape == (1, env.action_space.n))\n",
    "        G = reward + gamma*np.max(next)\n",
    "        model.update(prev_observation, action, G)\n",
    "        totalreward += reward\n",
    "#         if reward == 1: # if we changed the reward to -200\n",
    "#             totalreward += reward\n",
    "        iters += 1\n",
    "\n",
    "    return totalreward"
   ]
  },
  {
   "cell_type": "code",
   "execution_count": 7,
   "metadata": {},
   "outputs": [],
   "source": [
    "def main():\n",
    "    env = gym.make('HIV-v0')\n",
    "    ft = FeatureTransformer(env)\n",
    "    model = Model(env, ft)\n",
    "    gamma = 0.99\n",
    "\n",
    "    if 'monitor' in sys.argv:\n",
    "        filename = os.path.basename(__file__).split('.')[0]\n",
    "        monitor_dir = './' + filename + '_' + str(datetime.now())\n",
    "        env = wrappers.Monitor(env, monitor_dir)\n",
    "\n",
    "\n",
    "    N = 10000\n",
    "    totalrewards = np.empty(N)\n",
    "    costs = np.empty(N)\n",
    "    for n in range(N):\n",
    "        eps = 1.0/np.sqrt(n+1)\n",
    "        totalreward = play_one(env, model, eps, gamma)\n",
    "        totalrewards[n] = totalreward\n",
    "        if n % 1000 == 0:\n",
    "            print(\"episode:\", n, \"total reward:\", totalreward, \"eps:\", eps, \"avg reward (last 1000):\", totalrewards[max(0, n-1000):(n+1)].mean())\n",
    "\n",
    "    print(\"avg reward for last 1000 episodes:\", totalrewards[-1000:].mean())\n",
    "    print(\"total steps:\", totalrewards.sum())\n",
    "\n",
    "    return totalrewards,env\n"
   ]
  },
  {
   "cell_type": "code",
   "execution_count": 8,
   "metadata": {},
   "outputs": [
    {
     "name": "stdout",
     "output_type": "stream",
     "text": [
      "Run  1\n",
      "episode: 0 total reward: 8269699.0058665145 eps: 1.0 avg reward (last 1000): 8269699.0058665145\n",
      "episode: 1000 total reward: 38395215.095829524 eps: 0.0316069770620507 avg reward (last 1000): 22260206.38509888\n",
      "episode: 2000 total reward: 13166462656.306854 eps: 0.022355091700494795 avg reward (last 1000): 1527350377.18954\n",
      "episode: 3000 total reward: 40145460961.24473 eps: 0.01825437644092281 avg reward (last 1000): 28506604247.6139\n",
      "episode: 4000 total reward: 38508457764.29512 eps: 0.015809412247806517 avg reward (last 1000): 33639580043.528706\n",
      "episode: 5000 total reward: 42018941837.902954 eps: 0.014140721622265264 avg reward (last 1000): 35916825989.5585\n",
      "episode: 6000 total reward: 36109884013.70404 eps: 0.012908868793110689 avg reward (last 1000): 37052212315.35187\n",
      "episode: 7000 total reward: 36910099081.776566 eps: 0.011951432450083671 avg reward (last 1000): 37373959338.9289\n",
      "episode: 8000 total reward: 41921951275.97552 eps: 0.01117964118175896 avg reward (last 1000): 37790702105.41717\n",
      "episode: 9000 total reward: 43752354175.224625 eps: 0.010540339975716555 avg reward (last 1000): 37915933525.96183\n",
      "avg reward for last 1000 episodes: 38601432813.61216\n",
      "total steps: 288304034384716.1\n",
      "Run  2\n",
      "episode: 0 total reward: 9457344.44899176 eps: 1.0 avg reward (last 1000): 9457344.44899176\n",
      "episode: 1000 total reward: 51177069.412373826 eps: 0.0316069770620507 avg reward (last 1000): 33264111.595393173\n",
      "episode: 2000 total reward: 143995505.2542407 eps: 0.022355091700494795 avg reward (last 1000): 90825065.79250678\n",
      "episode: 3000 total reward: 3451854493.057973 eps: 0.01825437644092281 avg reward (last 1000): 733259353.4650952\n",
      "episode: 4000 total reward: 37378350378.938446 eps: 0.015809412247806517 avg reward (last 1000): 25964368915.467384\n",
      "episode: 5000 total reward: 39718135618.968315 eps: 0.014140721622265264 avg reward (last 1000): 33946479386.57181\n",
      "episode: 6000 total reward: 34946972843.118416 eps: 0.012908868793110689 avg reward (last 1000): 36290731805.40281\n",
      "episode: 7000 total reward: 42380069930.47591 eps: 0.011951432450083671 avg reward (last 1000): 37160363030.86553\n",
      "episode: 8000 total reward: 33048894263.85012 eps: 0.01117964118175896 avg reward (last 1000): 37847214540.76203\n",
      "episode: 9000 total reward: 43639686929.9844 eps: 0.010540339975716555 avg reward (last 1000): 38269568554.85024\n",
      "avg reward for last 1000 episodes: 38302366522.91773\n",
      "total steps: 248614018225422.22\n",
      "Run  3\n",
      "episode: 0 total reward: 10976398.621522073 eps: 1.0 avg reward (last 1000): 10976398.621522073\n",
      "episode: 1000 total reward: 66395736.41254977 eps: 0.0316069770620507 avg reward (last 1000): 34010373.6575156\n",
      "episode: 2000 total reward: 17060636460.45875 eps: 0.022355091700494795 avg reward (last 1000): 7503279666.156543\n",
      "episode: 3000 total reward: 33678628159.188416 eps: 0.01825437644092281 avg reward (last 1000): 20260388306.645927\n",
      "episode: 4000 total reward: 36611185671.58151 eps: 0.015809412247806517 avg reward (last 1000): 32101572021.877495\n",
      "episode: 5000 total reward: 35795710686.42678 eps: 0.014140721622265264 avg reward (last 1000): 35536830438.56716\n",
      "episode: 6000 total reward: 43600354814.75024 eps: 0.012908868793110689 avg reward (last 1000): 36874995121.841225\n",
      "episode: 7000 total reward: 42082061066.42016 eps: 0.011951432450083671 avg reward (last 1000): 38049593673.19689\n",
      "episode: 8000 total reward: 26859871704.558537 eps: 0.01117964118175896 avg reward (last 1000): 38146071994.27788\n",
      "episode: 9000 total reward: 32068072172.25044 eps: 0.010540339975716555 avg reward (last 1000): 38728810818.40775\n",
      "avg reward for last 1000 episodes: 39151246210.505844\n",
      "total steps: 286366211261076.8\n",
      "Run  4\n",
      "episode: 0 total reward: 9881921.786574751 eps: 1.0 avg reward (last 1000): 9881921.786574751\n",
      "episode: 1000 total reward: 61581219.19411294 eps: 0.0316069770620507 avg reward (last 1000): 38569010.90517389\n",
      "episode: 2000 total reward: 315772044.2446029 eps: 0.022355091700494795 avg reward (last 1000): 152106104.77818474\n",
      "episode: 3000 total reward: 1469323570.0152826 eps: 0.01825437644092281 avg reward (last 1000): 741803701.8589199\n",
      "episode: 4000 total reward: 10121511965.535559 eps: 0.015809412247806517 avg reward (last 1000): 11769063401.17023\n",
      "episode: 5000 total reward: 36315637731.4749 eps: 0.014140721622265264 avg reward (last 1000): 33152375154.260757\n",
      "episode: 6000 total reward: 37010661374.05007 eps: 0.012908868793110689 avg reward (last 1000): 35575354596.484406\n",
      "episode: 7000 total reward: 39575687249.808334 eps: 0.011951432450083671 avg reward (last 1000): 36375469331.861465\n",
      "episode: 8000 total reward: 31372311617.156563 eps: 0.01117964118175896 avg reward (last 1000): 36984324671.14442\n",
      "episode: 9000 total reward: 35070560639.38703 eps: 0.010540339975716555 avg reward (last 1000): 37792724109.92411\n",
      "avg reward for last 1000 episodes: 38108050975.23385\n",
      "total steps: 230691109800293.03\n",
      "Run  5\n",
      "episode: 0 total reward: 10432244.7861744 eps: 1.0 avg reward (last 1000): 10432244.7861744\n",
      "episode: 1000 total reward: 47568082.51165228 eps: 0.0316069770620507 avg reward (last 1000): 25255180.124945298\n",
      "episode: 2000 total reward: 130951378.80871108 eps: 0.022355091700494795 avg reward (last 1000): 84927790.02941369\n",
      "episode: 3000 total reward: 408200173.00802153 eps: 0.01825437644092281 avg reward (last 1000): 256870775.4252962\n",
      "episode: 4000 total reward: 909370918.9879854 eps: 0.015809412247806517 avg reward (last 1000): 592902058.9946375\n",
      "episode: 5000 total reward: 1634975742.534732 eps: 0.014140721622265264 avg reward (last 1000): 1156670691.5568073\n",
      "episode: 6000 total reward: 4110440641.025267 eps: 0.012908868793110689 avg reward (last 1000): 2587657270.092462\n",
      "episode: 7000 total reward: 23505603209.321686 eps: 0.011951432450083671 avg reward (last 1000): 17593016699.40586\n",
      "episode: 8000 total reward: 29935468419.02753 eps: 0.01117964118175896 avg reward (last 1000): 29274159308.128597\n",
      "episode: 9000 total reward: 37615072071.94414 eps: 0.010540339975716555 avg reward (last 1000): 36341295547.6842\n",
      "avg reward for last 1000 episodes: 37615657084.04708\n",
      "total steps: 125518027510173.56\n"
     ]
    },
    {
     "data": {
      "image/png": "[encoded data removed]",
      "text/plain": [
       "<Figure size 864x720 with 7 Axes>"
      ]
     },
     "metadata": {},
     "output_type": "display_data"
    },
    {
     "data": {
      "image/png": "[encoded data removed]",
      "text/plain": [
       "<Figure size 432x288 with 1 Axes>"
      ]
     },
     "metadata": {},
     "output_type": "display_data"
    }
   ],
   "source": [
    "##Taking the average\n",
    "num_experiments=5\n",
    "all_rewards=[]\n",
    "for i in range(num_experiments):\n",
    "    print(\"Run \",i+1)\n",
    "    \n",
    "    totalrewards,env=main()\n",
    "    all_rewards.append(totalrewards)\n",
    "average_rewards=np.mean(all_rewards,axis=0)\n",
    "env.showDomain()\n",
    "plt.plot(average_rewards)\n",
    "plt.title(\"Rewards\")\n",
    "np.save('All_rewards_Q_learning.npy',all_rewards)\n",
    "plt.show()\n",
    "\n",
    "plot_running_avg(average_rewards)\n",
    "\n",
    "\n"
   ]
  },
  {
   "cell_type": "markdown",
   "metadata": {},
   "source": [
    "## Approach :\n",
    "  The previous implementations of KBRL are unable to converge thus we now move to a different choice of kernel and method of implementation. We decide to use the Radial Basis Function (RBF) kernel.\n",
    "  \n",
    "  The RBF kernel model can be thought of as a linear  model with feature extraction where the feature extractor is a RBF kernel.\n",
    "  \n",
    "  Mathematically the RBF kernel can be expressed as:\n",
    "  $$\\phi (x)=exp(-\\frac{||x-c||^{2}}{\\sigma^{2}})$$\n",
    "  \n",
    "  where:\n",
    "         $x$= input vector\n",
    "         $c$ = center or exemplar vector\n",
    "         $\\sigma$ = scale parameter.\n",
    "         \n",
    "  Note that $c$ is a hyper-parameter and needs to be found by experimentation.\n",
    "  \n",
    "  We use the RBF-sampler from scikit-learn and sample from the state space to train a linear regresor to learns its feature.\n",
    "  Since we are not sure which scale parameter $\\sigma$ is good we use multiple RBF kernels with different scale parameters. We also use one step of a gradient descent to integrate it with the Q learning mechanism.\n",
    "  \n",
    "Another implementation detail worth noting is that we only extract the features from the state $s$ and learn a different linear-model for each action."
   ]
  },
  {
   "cell_type": "code",
   "execution_count": 11,
   "metadata": {},
   "outputs": [
    {
     "data": {
      "text/plain": [
       "<Figure size 864x720 with 0 Axes>"
      ]
     },
     "metadata": {},
     "output_type": "display_data"
    }
   ],
   "source": []
  },
  {
   "cell_type": "code",
   "execution_count": 10,
   "metadata": {},
   "outputs": [],
   "source": []
  },
  {
   "cell_type": "code",
   "execution_count": null,
   "metadata": {},
   "outputs": [],
   "source": []
  }
 ],
 "metadata": {
  "anaconda-cloud": {},
  "kernelspec": {
   "display_name": "Python 3",
   "language": "python",
   "name": "python3"
  },
  "language_info": {
   "codemirror_mode": {
    "name": "ipython",
    "version": 3
   },
   "file_extension": ".py",
   "mimetype": "text/x-python",
   "name": "python",
   "nbconvert_exporter": "python",
   "pygments_lexer": "ipython3",
   "version": "3.6.5"
  }
 },
 "nbformat": 4,
 "nbformat_minor": 1
}
